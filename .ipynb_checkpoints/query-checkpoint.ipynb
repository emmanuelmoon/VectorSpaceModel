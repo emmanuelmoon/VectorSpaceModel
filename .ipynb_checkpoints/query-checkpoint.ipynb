{
 "cells": [
  {
   "cell_type": "code",
   "execution_count": 33,
   "id": "1eb63b14-9df7-411b-a6c7-180a29fb45ce",
   "metadata": {},
   "outputs": [
    {
     "name": "stdout",
     "output_type": "stream",
     "text": [
      "Requirement already satisfied: nltk in /home/emmanuel/miniconda3/envs/vsm/lib/python3.12/site-packages (3.8.1)\n",
      "Requirement already satisfied: numpy in /home/emmanuel/miniconda3/envs/vsm/lib/python3.12/site-packages (1.26.4)\n",
      "Requirement already satisfied: click in /home/emmanuel/miniconda3/envs/vsm/lib/python3.12/site-packages (from nltk) (8.1.7)\n",
      "Requirement already satisfied: joblib in /home/emmanuel/miniconda3/envs/vsm/lib/python3.12/site-packages (from nltk) (1.2.0)\n",
      "Requirement already satisfied: regex>=2021.8.3 in /home/emmanuel/miniconda3/envs/vsm/lib/python3.12/site-packages (from nltk) (2023.10.3)\n",
      "Requirement already satisfied: tqdm in /home/emmanuel/miniconda3/envs/vsm/lib/python3.12/site-packages (from nltk) (4.65.0)\n"
     ]
    }
   ],
   "source": [
    "!pip install nltk numpy"
   ]
  },
  {
   "cell_type": "code",
   "execution_count": 34,
   "id": "d5472b3d-ef15-4403-8207-d4f84e10bb6d",
   "metadata": {},
   "outputs": [
    {
     "name": "stderr",
     "output_type": "stream",
     "text": [
      "[nltk_data] Downloading package punkt to /home/emmanuel/nltk_data...\n",
      "[nltk_data]   Package punkt is already up-to-date!\n"
     ]
    }
   ],
   "source": [
    "import nltk\n",
    "nltk.download('punkt')\n",
    "\n",
    "from nltk.stem import PorterStemmer\n",
    "ps = PorterStemmer()"
   ]
  },
  {
   "cell_type": "code",
   "execution_count": 35,
   "id": "cf53a2ea-d965-4770-a7e2-2b1402ebaba6",
   "metadata": {},
   "outputs": [],
   "source": [
    "# Load stored term-document matrix and mapping files\n",
    "\n",
    "import pickle\n",
    "\n",
    "with open(\"tdm.pkl\", \"rb\") as f:\n",
    "    tdm= pickle.load(f)\n",
    "\n",
    "with open(\"dic_map.pkl\", \"rb\") as f:\n",
    "    dic_map = pickle.load(f)\n",
    "\n",
    "with open(\"doc_map.pkl\", \"rb\") as f:\n",
    "    doc_map = pickle.load(f)"
   ]
  },
  {
   "cell_type": "code",
   "execution_count": 36,
   "id": "d93076bd-c972-4ec6-b5d9-4668bc7c7708",
   "metadata": {},
   "outputs": [],
   "source": [
    "import re\n",
    "import numpy as np\n",
    "\n",
    "alpha = 0.05  # Threshold value for filtering results\n",
    "\n",
    "def evaluate(tokens):\n",
    "    # Initialize an array to hold the frequency of each term in the dictionary\n",
    "    a = np.zeros(shape=(len(dic_map)))  \n",
    "    \n",
    "    # Count the occurrences of each token in the document\n",
    "    for token in tokens:\n",
    "        if dic_map.get(token):\n",
    "            a[dic_map[token]] += 1\n",
    "    \n",
    "    # Calculate the L2 norm of the frequency vector or set it to 1 if it's 0 to avoid division by zero\n",
    "    norm = np.linalg.norm(a) or 1.0\n",
    "        \n",
    "    # Normalize the frequency vector\n",
    "    a *= 1 / norm\n",
    "    \n",
    "    # Dictionary to store the cosine similarity of each document with the query\n",
    "    res = {}\n",
    "    for key, value in doc_map.items():\n",
    "        # Calculate the dot product of the normalized frequency vector and the document vector\n",
    "        dot_prod = a.dot(tdm[value])\n",
    "        res[key] = dot_prod\n",
    "\n",
    "    # Calculate the threshold for relevance based on the highest cosine similarity\n",
    "    threshold = max(res.values()) * alpha\n",
    "\n",
    "    # Dictionary to store the final relevant documents and their cosine similarity\n",
    "    final_res = {}\n",
    "    for key, value in res.items():\n",
    "        # Filter out documents with cosine similarity below the threshold\n",
    "        if value >= threshold:\n",
    "            final_res[key] = value\n",
    "    \n",
    "    # Sort the final results by cosine similarity in descending order\n",
    "    sorted_res = {k: v for k, v in sorted(final_res.items(), key=lambda item: item[1], reverse=True)}\n",
    "    return sorted_res\n",
    "\n",
    "def process_vector_query(query):\n",
    "    # Tokenize the query using regular expression\n",
    "    tokens = re.findall(r\"[\\w]+|[^-_\\w\\s()@#$%^&*+={[\\]};,<>./?~`\\\"]\", query)\n",
    "    \n",
    "    # Stem and lowercase each token\n",
    "    tokens = [ps.stem(token.lower()) for token in tokens]\n",
    "    \n",
    "    # Evaluate the relevance of documents based on the query\n",
    "    result = evaluate(tokens)\n",
    "    return result  # Return relevant documents sorted by relevance"
   ]
  },
  {
   "cell_type": "code",
   "execution_count": 37,
   "id": "4572dcef-9f18-465c-9f5f-525778aa2aa6",
   "metadata": {},
   "outputs": [],
   "source": [
    "import tkinter as tk\n",
    "from tkinter import ttk\n",
    "import re\n",
    "\n",
    "def display_results(result, treeview):\n",
    "    # Clear existing results in the treeview\n",
    "    for item in treeview.get_children():\n",
    "        treeview.delete(item)\n",
    "\n",
    "    if result:\n",
    "        # Display the new results\n",
    "        for i, (key, value) in enumerate(result.items()):\n",
    "            data = (key, value)\n",
    "            treeview.insert(parent='', index=i, values=data)\n",
    "    # Add to show end of table\n",
    "    treeview.insert(parent='', index='end', values=('XXX', 'YYY'))\n",
    "\n",
    "def search_vector():\n",
    "    query = entry_vector.get()\n",
    "    result = process_vector_query(query)\n",
    "    display_results(result, treeview_vector)\n",
    "\n",
    "# Create the main Tkinter window\n",
    "root = tk.Tk()\n",
    "root.title(\"Vector Query Query Search\")\n",
    "\n",
    "frame_vector = ttk.Frame(root)\n",
    "frame_vector.grid(row=0, column=0, padx=10, pady=10, sticky=\"nsew\")\n",
    "\n",
    "label_vector = ttk.Label(frame_vector, text=\"Query:\")\n",
    "label_vector.grid(row=0, column=0, padx=5, pady=5)\n",
    "\n",
    "entry_vector = ttk.Entry(frame_vector, width=30)\n",
    "entry_vector.grid(row=0, column=1, padx=5, pady=5)\n",
    "\n",
    "button_vector = ttk.Button(frame_vector, text=\"Search\", command=search_vector)\n",
    "button_vector.grid(row=0, column=2, padx=5, pady=5)\n",
    "\n",
    "treeview_vector = ttk.Treeview(frame_vector, columns=('doc', 'cosine'), show='headings')\n",
    "treeview_vector.heading('doc', text='Document ID')\n",
    "treeview_vector.heading('cosine', text='Cosine Score')\n",
    "\n",
    "treeview_vector.grid(row=1, column=0, columnspan=5, sticky=\"nsew\")\n",
    "\n",
    "# Set row and column weights for resizing\n",
    "root.grid_rowconfigure(0, weight=2)\n",
    "root.grid_rowconfigure(1, weight=4)\n",
    "root.grid_columnconfigure(0, weight=4)\n",
    "\n",
    "# Start the Tkinter event loop\n",
    "root.mainloop()"
   ]
  }
 ],
 "metadata": {
  "kernelspec": {
   "display_name": "Python 3 (ipykernel)",
   "language": "python",
   "name": "python3"
  },
  "language_info": {
   "codemirror_mode": {
    "name": "ipython",
    "version": 3
   },
   "file_extension": ".py",
   "mimetype": "text/x-python",
   "name": "python",
   "nbconvert_exporter": "python",
   "pygments_lexer": "ipython3",
   "version": "3.12.2"
  }
 },
 "nbformat": 4,
 "nbformat_minor": 5
}
