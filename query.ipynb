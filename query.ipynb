{
 "cells": [
  {
   "cell_type": "code",
   "execution_count": 2,
   "id": "d5472b3d-ef15-4403-8207-d4f84e10bb6d",
   "metadata": {},
   "outputs": [
    {
     "name": "stderr",
     "output_type": "stream",
     "text": [
      "[nltk_data] Downloading package punkt to /home/emmanuel/nltk_data...\n",
      "[nltk_data]   Package punkt is already up-to-date!\n"
     ]
    }
   ],
   "source": [
    "import nltk\n",
    "nltk.download('punkt')\n",
    "\n",
    "from nltk.stem import PorterStemmer\n",
    "ps = PorterStemmer()"
   ]
  },
  {
   "cell_type": "code",
   "execution_count": 1,
   "id": "cf53a2ea-d965-4770-a7e2-2b1402ebaba6",
   "metadata": {},
   "outputs": [],
   "source": [
    "import pickle\n",
    "\n",
    "with open(\"tdm.pkl\", \"rb\") as f:\n",
    "    tdm= pickle.load(f)\n",
    "\n",
    "with open(\"dic_map.pkl\", \"rb\") as f:\n",
    "    dic_map = pickle.load(f)\n",
    "\n",
    "with open(\"doc_map.pkl\", \"rb\") as f:\n",
    "    doc_map = pickle.load(f)"
   ]
  },
  {
   "cell_type": "code",
   "execution_count": 31,
   "id": "9e2938ef-55ee-434e-8897-f724530d9cb8",
   "metadata": {},
   "outputs": [
    {
     "name": "stdout",
     "output_type": "stream",
     "text": [
      "{1: 0.025421135678214666, 3: 0.029615302918407853, 2: 0.030315639698970928, 7: 0.03295474002684207}\n"
     ]
    }
   ],
   "source": [
    "import re\n",
    "import numpy as np\n",
    "def evaluate(tokens):\n",
    "    a = np.zeros(shape=(len(dic_map)))\n",
    "    for token in tokens:\n",
    "        if dic_map.get(token):\n",
    "            a[dic_map[token]] += 1\n",
    "    a *= 1 / np.linalg.norm(a)\n",
    "    res = {}\n",
    "    for key, value in doc_map.items():\n",
    "        dot_prod = a.dot(tdm[value])\n",
    "        if dot_prod > 0.025:\n",
    "            res[key] = dot_prod\n",
    "    sorted_res =  {k: v for k, v in sorted(res.items(), key=lambda item: item[1])}\n",
    "    print(sorted_res)\n",
    "def process_vector_query(query):\n",
    "    tokens = re.findall(r\"[\\w]+|[^-_\\w\\s()@#$%^&*+={[\\]};,<>./?~`\\\"]\", query)\n",
    "    \n",
    "    tokens = [ps.stem(token.lower()) for token in tokens]\n",
    "    result = evaluate(tokens)\n",
    "    return result\n",
    "\n",
    "process_vector_query(\"natural intelligence\")"
   ]
  }
 ],
 "metadata": {
  "kernelspec": {
   "display_name": "Python 3 (ipykernel)",
   "language": "python",
   "name": "python3"
  },
  "language_info": {
   "codemirror_mode": {
    "name": "ipython",
    "version": 3
   },
   "file_extension": ".py",
   "mimetype": "text/x-python",
   "name": "python",
   "nbconvert_exporter": "python",
   "pygments_lexer": "ipython3",
   "version": "3.12.2"
  }
 },
 "nbformat": 4,
 "nbformat_minor": 5
}
