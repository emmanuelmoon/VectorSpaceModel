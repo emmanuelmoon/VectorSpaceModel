{
 "cells": [
  {
   "cell_type": "code",
   "execution_count": 2,
   "id": "d5472b3d-ef15-4403-8207-d4f84e10bb6d",
   "metadata": {},
   "outputs": [
    {
     "name": "stderr",
     "output_type": "stream",
     "text": [
      "[nltk_data] Downloading package punkt to /home/emmanuel/nltk_data...\n",
      "[nltk_data]   Package punkt is already up-to-date!\n"
     ]
    }
   ],
   "source": [
    "import nltk\n",
    "nltk.download('punkt')\n",
    "\n",
    "from nltk.stem import PorterStemmer\n",
    "ps = PorterStemmer()"
   ]
  },
  {
   "cell_type": "code",
   "execution_count": 3,
   "id": "cf53a2ea-d965-4770-a7e2-2b1402ebaba6",
   "metadata": {},
   "outputs": [],
   "source": [
    "import pickle\n",
    "\n",
    "with open(\"tdm.pkl\", \"rb\") as f:\n",
    "    tdm= pickle.load(f)\n",
    "\n",
    "with open(\"dic_map.pkl\", \"rb\") as f:\n",
    "    dic_map = pickle.load(f)\n",
    "\n",
    "with open(\"doc_map.pkl\", \"rb\") as f:\n",
    "    doc_map = pickle.load(f)"
   ]
  },
  {
   "cell_type": "code",
   "execution_count": 4,
   "id": "9e2938ef-55ee-434e-8897-f724530d9cb8",
   "metadata": {},
   "outputs": [
    {
     "name": "stdout",
     "output_type": "stream",
     "text": [
      "{1: 0.029152196613819372, 2: 0.03550771866470323, 3: 0.029687854137701433, 7: 0.036410612647920615, 16: 0.042826507091961785}\n",
      "{1: 0.029152196613819372, 3: 0.029687854137701433, 2: 0.03550771866470323, 7: 0.036410612647920615, 16: 0.042826507091961785}\n",
      "[16, 7, 2, 3, 1]\n"
     ]
    }
   ],
   "source": [
    "import re\n",
    "import numpy as np\n",
    "def evaluate(tokens):\n",
    "    a = np.zeros(shape=(len(dic_map)))\n",
    "    for token in tokens:\n",
    "        if dic_map.get(token):\n",
    "            a[dic_map[token]] += 1\n",
    "    norm  = np.linalg.norm(a) or 1.0\n",
    "        \n",
    "    a *= 1 / norm\n",
    "    res = {}\n",
    "    for key, value in doc_map.items():\n",
    "        dot_prod = a.dot(tdm[value])\n",
    "        if dot_prod > 0.025:\n",
    "            res[key] = dot_prod\n",
    "    print(res)\n",
    "    sorted_res =  {k: v for k, v in sorted(res.items(), key=lambda item: item[1])}\n",
    "    print(sorted_res)\n",
    "    return list(sorted_res.keys())[::-1]\n",
    "def process_vector_query(query):\n",
    "    tokens = re.findall(r\"[\\w]+|[^-_\\w\\s()@#$%^&*+={[\\]};,<>./?~`\\\"]\", query)\n",
    "    \n",
    "    tokens = [ps.stem(token.lower()) for token in tokens]\n",
    "    result = evaluate(tokens)\n",
    "    return result\n",
    "\n",
    "print(process_vector_query(\"machine learning\"))"
   ]
  },
  {
   "cell_type": "code",
   "execution_count": 5,
   "id": "d75ff8bf-aaca-4939-a44e-7dd07e3b721b",
   "metadata": {},
   "outputs": [
    {
     "name": "stdout",
     "output_type": "stream",
     "text": [
      "0.0605658271585199\n",
      "0.051492382221002685\n",
      "0.050215497304551604\n",
      "0.041984965959291576\n",
      "0.04122743182423037\n"
     ]
    }
   ],
   "source": [
    "print(tdm[doc_map[16]][dic_map[ps.stem('machine')]] + tdm[doc_map[16]][dic_map[ps.stem('learning')]])\n",
    "print(tdm[doc_map[7]][dic_map[ps.stem('machine')]] + tdm[doc_map[7]][dic_map[ps.stem('learning')]])\n",
    "print(tdm[doc_map[2]][dic_map[ps.stem('machine')]] + tdm[doc_map[2]][dic_map[ps.stem('learning')]])\n",
    "print(tdm[doc_map[3]][dic_map[ps.stem('machine')]] + tdm[doc_map[3]][dic_map[ps.stem('learning')]])\n",
    "print(tdm[doc_map[1]][dic_map[ps.stem('machine')]] + tdm[doc_map[1]][dic_map[ps.stem('learning')]])"
   ]
  },
  {
   "cell_type": "code",
   "execution_count": 6,
   "id": "4572dcef-9f18-465c-9f5f-525778aa2aa6",
   "metadata": {},
   "outputs": [
    {
     "name": "stdout",
     "output_type": "stream",
     "text": [
      "{1: 0.029152196613819372, 2: 0.03550771866470323, 3: 0.029687854137701433, 7: 0.036410612647920615, 16: 0.042826507091961785}\n",
      "{1: 0.029152196613819372, 3: 0.029687854137701433, 2: 0.03550771866470323, 7: 0.036410612647920615, 16: 0.042826507091961785}\n",
      "{12: 0.027568200128642383}\n",
      "{12: 0.027568200128642383}\n",
      "{1: 0.029152196613819372, 2: 0.03550771866470323, 3: 0.029687854137701433, 7: 0.036410612647920615, 16: 0.042826507091961785}\n",
      "{1: 0.029152196613819372, 3: 0.029687854137701433, 2: 0.03550771866470323, 7: 0.036410612647920615, 16: 0.042826507091961785}\n"
     ]
    }
   ],
   "source": [
    "import tkinter as tk\n",
    "from tkinter import ttk\n",
    "import re\n",
    "\n",
    "def display_results(result, treeview):\n",
    "    # Clear existing results in the treeview\n",
    "    for item in treeview.get_children():\n",
    "        treeview.delete(item)\n",
    "\n",
    "    if result:\n",
    "        # Display the new results\n",
    "        for i, (doc) in enumerate(result):\n",
    "            data = (doc)\n",
    "            treeview.insert(parent='', index=i, values=data)\n",
    "    # Add to show end of table\n",
    "    treeview.insert(parent='', index='end', values=('XXX'))\n",
    "\n",
    "def search_vector():\n",
    "    query = entry_vector.get()\n",
    "    result = process_vector_query(query)\n",
    "    display_results(result, treeview_vector)\n",
    "\n",
    "# Create the main Tkinter window\n",
    "root = tk.Tk()\n",
    "root.title(\"Vector Query Query Search\")\n",
    "\n",
    "frame_vector = ttk.Frame(root)\n",
    "frame_vector.grid(row=0, column=0, padx=10, pady=10, sticky=\"nsew\")\n",
    "\n",
    "label_vector = ttk.Label(frame_vector, text=\"Query:\")\n",
    "label_vector.grid(row=0, column=0, padx=5, pady=5)\n",
    "\n",
    "entry_vector = ttk.Entry(frame_vector, width=30)\n",
    "entry_vector.grid(row=0, column=1, padx=5, pady=5)\n",
    "\n",
    "button_vector = ttk.Button(frame_vector, text=\"Search\", command=search_vector)\n",
    "button_vector.grid(row=0, column=2, padx=5, pady=5)\n",
    "\n",
    "treeview_vector = ttk.Treeview(frame_vector, columns=('doc'), show='headings')\n",
    "treeview_vector.heading('doc', text='Document ID')\n",
    "treeview_vector.grid(row=1, column=0, columnspan=3, sticky=\"nsew\")\n",
    "\n",
    "# Set row and column weights for resizing\n",
    "root.grid_rowconfigure(0, weight=1)\n",
    "root.grid_rowconfigure(1, weight=1)\n",
    "root.grid_columnconfigure(0, weight=1)\n",
    "\n",
    "# Start the Tkinter event loop\n",
    "root.mainloop()"
   ]
  }
 ],
 "metadata": {
  "kernelspec": {
   "display_name": "Python 3 (ipykernel)",
   "language": "python",
   "name": "python3"
  },
  "language_info": {
   "codemirror_mode": {
    "name": "ipython",
    "version": 3
   },
   "file_extension": ".py",
   "mimetype": "text/x-python",
   "name": "python",
   "nbconvert_exporter": "python",
   "pygments_lexer": "ipython3",
   "version": "3.12.2"
  }
 },
 "nbformat": 4,
 "nbformat_minor": 5
}
